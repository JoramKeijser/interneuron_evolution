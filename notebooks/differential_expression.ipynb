{
 "cells": [
  {
   "cell_type": "code",
   "execution_count": 84,
   "metadata": {},
   "outputs": [],
   "source": [
    "import numpy as np \n",
    "import matplotlib.pyplot as plt\n",
    "import seaborn as sns\n",
    "import anndata as ad\n",
    "import scanpy as sc\n",
    "sns.set_context(\"poster\")\n",
    "sns.set_palette(\"colorblind\")"
   ]
  },
  {
   "cell_type": "code",
   "execution_count": 85,
   "metadata": {},
   "outputs": [
    {
     "data": {
      "text/plain": [
       "AnnData object with n_obs × n_vars = 4028 × 19857\n",
       "    obs: 'UMAP_1', 'UMAP_2', 'nCount_RNA', 'nFeature_RNA', 'percent.mito', 'species', 'position2', 'cluster_int_sub2', 'orig.ident', 'cluster_int', 'subclass', 'birth_area', 'Chrna10', 'Chrm2', 'Chrna2', 'Chrm3', 'Chrna9', 'Chrm4', 'Chrm5', 'Chrna1', 'Chrnd', 'Chrng', 'Chrna5', 'Chrna3', 'Chrnb4', 'Chrna4', 'Chrnb2', 'Chrnb3', 'Chrna6', 'Chrna7'"
      ]
     },
     "execution_count": 85,
     "metadata": {},
     "output_type": "execute_result"
    }
   ],
   "source": [
    "adata = ad.read_h5ad(\"../data/colquitt_raw.h5ad\")\n",
    "adata"
   ]
  },
  {
   "cell_type": "code",
   "execution_count": 86,
   "metadata": {},
   "outputs": [
    {
     "name": "stdout",
     "output_type": "stream",
     "text": [
      "2.2629976\n"
     ]
    },
    {
     "name": "stderr",
     "output_type": "stream",
     "text": [
      "/tmp/ipykernel_130449/78831764.py:2: FutureWarning: The default value of numeric_only in DataFrameGroupBy.mean is deprecated. In a future version, numeric_only will default to False. Either specify numeric_only or select only columns which should be valid for the function.\n",
      "  by_batch = adata.obs.groupby(['subclass']).mean()\n"
     ]
    }
   ],
   "source": [
    "adata.obs['Elfn1'] = np.array(adata[:,\"Elfn1\"].X)\n",
    "by_batch = adata.obs.groupby(['subclass']).mean()\n",
    "sst_expr = by_batch[[\"Sst\" in index for index in by_batch.index]]['Elfn1'].mean()\n",
    "pvalb_expr = by_batch[[\"Pvalb\" in index for index in by_batch.index]]['Elfn1'].mean()\n",
    "log2fc = np.log2(sst_expr / pvalb_expr)\n",
    "print(log2fc)"
   ]
  },
  {
   "cell_type": "code",
   "execution_count": 87,
   "metadata": {},
   "outputs": [],
   "source": [
    "sc.pp.normalize_per_cell(adata, 1e4)\n",
    "sc.pp.log1p(adata)"
   ]
  },
  {
   "cell_type": "code",
   "execution_count": 88,
   "metadata": {},
   "outputs": [
    {
     "name": "stdout",
     "output_type": "stream",
     "text": [
      "WARNING: Default of the method has been changed to 't-test' from 't-test_overestim_var'\n"
     ]
    }
   ],
   "source": [
    "sc.tl.rank_genes_groups(adata, \"subclass\", groups=['Sst', 'Pvalb'])"
   ]
  },
  {
   "cell_type": "code",
   "execution_count": 89,
   "metadata": {},
   "outputs": [
    {
     "name": "stdout",
     "output_type": "stream",
     "text": [
      "3\n"
     ]
    },
    {
     "data": {
      "text/plain": [
       "rec.array([( 2.9014413,  2.9253972), ( 2.14258  ,  3.2953012),\n",
       "           ( 3.2884436,  4.678059 ), ..., (-2.67052  , -2.7870054),\n",
       "           (-2.7154448, -3.4419682), (-2.9200366, -3.3581946)],\n",
       "          dtype=[('Sst', '<f4'), ('Pvalb', '<f4')])"
      ]
     },
     "execution_count": 89,
     "metadata": {},
     "output_type": "execute_result"
    }
   ],
   "source": [
    "rank = np.where(adata.uns['rank_genes_groups']['names']['Sst'] == 'Elfn1')[0][0]\n",
    "print(rank)\n",
    "adata.uns['rank_genes_groups']['logfoldchanges'] "
   ]
  },
  {
   "cell_type": "code",
   "execution_count": 90,
   "metadata": {},
   "outputs": [
    {
     "name": "stdout",
     "output_type": "stream",
     "text": [
      "3    2.795659\n",
      "Name: Sst_l, dtype: float32\n"
     ]
    }
   ],
   "source": [
    "result = adata.uns['rank_genes_groups']\n",
    "groups = result['names'].dtype.names\n",
    "import pandas as pd\n",
    "df = pd.DataFrame({group + '_' + key[:1]: result[key][group]\n",
    "    for group in groups for key in ['names', 'logfoldchanges']})\n",
    "logfc = df[df['Sst_n'] == 'Elfn1']['Sst_l']\n",
    "print(logfc)"
   ]
  },
  {
   "cell_type": "code",
   "execution_count": 96,
   "metadata": {},
   "outputs": [
    {
     "data": {
      "text/plain": [
       "4"
      ]
     },
     "execution_count": 96,
     "metadata": {},
     "output_type": "execute_result"
    }
   ],
   "source": []
  }
 ],
 "metadata": {
  "kernelspec": {
   "display_name": "Python 3.10.8 ('elfn1_env')",
   "language": "python",
   "name": "python3"
  },
  "language_info": {
   "codemirror_mode": {
    "name": "ipython",
    "version": 3
   },
   "file_extension": ".py",
   "mimetype": "text/x-python",
   "name": "python",
   "nbconvert_exporter": "python",
   "pygments_lexer": "ipython3",
   "version": "3.10.8"
  },
  "orig_nbformat": 4,
  "vscode": {
   "interpreter": {
    "hash": "b83dd48ba3aee6b93e3c0762d6886d355489f7d0cc86343da4d190d393a3deae"
   }
  }
 },
 "nbformat": 4,
 "nbformat_minor": 2
}
